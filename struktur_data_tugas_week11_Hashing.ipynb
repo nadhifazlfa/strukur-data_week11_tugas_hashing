{
  "nbformat": 4,
  "nbformat_minor": 0,
  "metadata": {
    "colab": {
      "provenance": [],
      "authorship_tag": "ABX9TyPjFP0YQF5lLRsyTayZJ5qZ",
      "include_colab_link": true
    },
    "kernelspec": {
      "name": "python3",
      "display_name": "Python 3"
    },
    "language_info": {
      "name": "python"
    }
  },
  "cells": [
    {
      "cell_type": "markdown",
      "metadata": {
        "id": "view-in-github",
        "colab_type": "text"
      },
      "source": [
        "<a href=\"https://colab.research.google.com/github/nadhifazlfa/strukur-data_week11_tugas_hashing/blob/main/struktur_data_tugas_week11_Hashing.ipynb\" target=\"_parent\"><img src=\"https://colab.research.google.com/assets/colab-badge.svg\" alt=\"Open In Colab\"/></a>"
      ]
    },
    {
      "cell_type": "code",
      "execution_count": null,
      "metadata": {
        "colab": {
          "base_uri": "https://localhost:8080/"
        },
        "id": "EWSb55ih6iYC",
        "outputId": "c4d17d48-962d-4c86-dda8-4e3c01b23fd4"
      },
      "outputs": [
        {
          "output_type": "stream",
          "name": "stdout",
          "text": [
            "Index 0: ('E', 50)\n",
            "Index 1: ('B', 20)\n",
            "Index 2: ('A', 10)\n",
            "Index 3: ('C', 30)\n",
            "Index 4: ('D', 40)\n"
          ]
        }
      ],
      "source": [
        "# Eksperimen Sederhana Linear Probing\n",
        "\n",
        "class LinearProbingHashTable:\n",
        "    def __init__(self, size):\n",
        "        self.size = size\n",
        "        self.table = [None] * size\n",
        "\n",
        "    def _hash(self, key):\n",
        "        # Fungsi hash sederhana menggunakan nilai ASCII\n",
        "        return hash(key) % self.size\n",
        "\n",
        "    def insert(self, key, value):\n",
        "        index = self._hash(key)\n",
        "        original_index = index\n",
        "        steps = 0\n",
        "\n",
        "        # Linear probing jika terjadi tabrakan (collision)\n",
        "        while self.table[index] is not None and self.table[index][0] != key:\n",
        "            index = (index + 1) % self.size\n",
        "            steps += 1\n",
        "            if steps >= self.size:\n",
        "                print(\"Tabel penuh, tidak bisa menambahkan:\", key)\n",
        "                return\n",
        "\n",
        "        self.table[index] = (key, value)\n",
        "\n",
        "    def display(self):\n",
        "        for i, item in enumerate(self.table):\n",
        "            print(f\"Index {i}: {item}\")\n",
        "\n",
        "# Inisialisasi hash table\n",
        "hash_table = LinearProbingHashTable(5)\n",
        "\n",
        "# Memasukkan pasangan key-value\n",
        "pairs = [(\"A\", 10), (\"B\", 20), (\"C\", 30), (\"D\", 40), (\"E\", 50)]\n",
        "for key, value in pairs:\n",
        "    hash_table.insert(key, value)\n",
        "\n",
        "# Cetak isi tabel\n",
        "hash_table.display()\n"
      ]
    },
    {
      "cell_type": "code",
      "source": [
        "class ChainingHashTable:\n",
        "  def __init__ (self, size):\n",
        "    self.size = size\n",
        "    self.table = [[] for _ in range(size)]\n",
        "\n",
        "  def hash_function(self, key):\n",
        "    return hash (key) % self.size\n",
        "\n",
        "  def insert(self, key, value) :\n",
        "    index = self.hash_function (key)\n",
        "    for i, (k, v) in enumerate (self.table[index]):\n",
        "      if k == key:\n",
        "        self.table[index] [i] = (key, value)\n",
        "        return\n",
        "    self.table[index].append((key, value))\n",
        "\n",
        "  def search(self, key):\n",
        "    index = self.hash_function (key)\n",
        "    for k, v in self.table[index]:\n",
        "      if k == key:\n",
        "        return v\n",
        "    return None\n",
        "\n",
        "# a. Gunakan ukuran tabel 3.\n",
        "ht = ChainingHashTable(3)\n",
        "\n",
        "# b. Masukkan key-value berikut: \"apel\": 100, \"melon\": 200, \"lemon\": 300, \"pisang\": 400\n",
        "ht.insert(\"apel\", 100)\n",
        "ht.insert(\"melon\", 200)\n",
        "ht.insert(\"lemon\", 300)\n",
        "ht.insert(\"pisang\", 400)\n",
        "\n",
        "# c. Cetak isi tabel (self.table) dan tampilkan semua data yang disimpan di setiap slot.\n",
        "print(\"Isi tabel hash:\", ht.table)"
      ],
      "metadata": {
        "id": "CrABbNVYQzHC",
        "outputId": "0c6c6727-4cfe-4c10-e44a-dd09f035c823",
        "colab": {
          "base_uri": "https://localhost:8080/"
        }
      },
      "execution_count": null,
      "outputs": [
        {
          "output_type": "stream",
          "name": "stdout",
          "text": [
            "Isi tabel hash: [[('apel', 100)], [('lemon', 300), ('pisang', 400)], [('melon', 200)]]\n"
          ]
        }
      ]
    }
  ]
}